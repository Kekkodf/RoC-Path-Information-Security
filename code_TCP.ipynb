{
  "cells": [
    {
      "cell_type": "markdown",
      "metadata": {
        "id": "xlqNWG_20ERN"
      },
      "source": [
        "# Tasks 1-2"
      ]
    },
    {
      "cell_type": "code",
      "source": [
        "import numpy as np"
      ],
      "metadata": {
        "id": "99J4uRVxiMes"
      },
      "execution_count": null,
      "outputs": []
    },
    {
      "cell_type": "code",
      "execution_count": null,
      "metadata": {
        "id": "EIxIYQZPSLBK"
      },
      "outputs": [],
      "source": [
        "#setting up the variables\n",
        "u = np.array([1, 0, 0, 0, 0, 0, 0, 0])\n",
        "k = np.array([1, 0, 0, 0, 0, 0, 0, 0])\n",
        "x = np.array([4, 0, 0, 9, 7, 0, 0, 3])\n",
        "p = 11\n",
        "\n",
        "#generation keys\n",
        "def subkey_gen(k):\n",
        "    k1 = np.array([k[0], k[2], k[4], k[6]])\n",
        "    k2 = np.array([k[0], k[1], k[2], k[3]])\n",
        "    k3 = np.array([k[0], k[3], k[4], k[7]])\n",
        "    k4 = np.array([k[0], k[3], k[5], k[6]])\n",
        "    k5 = np.array([k[0], k[2], k[5], k[7]])\n",
        "    k6 = np.array([k[2], k[3], k[4], k[5]])\n",
        "    set_of_subkeys = np.array([k1, k2, k3, k4, k5, k6])\n",
        "    return set_of_subkeys\n",
        "def inverse_subkey_gen(k):\n",
        "    set_of_subkeys = subkey_gen(k)\n",
        "    set_of_subkeys = set_of_subkeys[::-1]\n",
        "    return set_of_subkeys\n",
        "\n",
        "#def subkey sum\n",
        "def subkey_sum(w, k):\n",
        "    v = np.zeros([8])\n",
        "    key = np.concatenate((k,k), axis = None)\n",
        "    for i in range(0, 8):\n",
        "        v[i] = w[i] + key[i]\n",
        "    return v % p\n",
        "#def inverse subkey sum:\n",
        "def inverse_subkey_sum(v, k):\n",
        "    w = np.zeros([8])\n",
        "    key = np.concatenate((k,k), axis = None)\n",
        "    for i in range(0, 8):\n",
        "        w[i] = v[i] - key[i]\n",
        "    return w % p\n",
        "\n",
        "#def substitution\n",
        "def substitution(v):\n",
        "    y = np.zeros([8])\n",
        "    for i in range(0, 8):\n",
        "        y[i] = v[i] + v[i]\n",
        "    return y % p\n",
        "#def inverse substitution\n",
        "def inverse_substitution(y):\n",
        "    v = np.zeros([8])\n",
        "    for i in range(0, 8):\n",
        "        for j in range(0, p):\n",
        "            if (j + j) % p == y[i]:\n",
        "                v[i] = j\n",
        "    return v % p\n",
        "\n",
        "#def transposition\n",
        "def transposition(y):\n",
        "    y_copy = y\n",
        "    y_copy = y_copy[4:]\n",
        "    y_copy = y_copy[::-1]\n",
        "    z = np.zeros([8])\n",
        "    for i in range(0, 4):\n",
        "        z[i] = y[i]\n",
        "        z[i+4] = y_copy[i]\n",
        "    return z % p\n",
        "#def inverse transposition\n",
        "def inverse_transposition(z):\n",
        "    z_copy = z\n",
        "    z_copy = z_copy[4:]\n",
        "    z_copy = z_copy[::-1]\n",
        "    y = np.zeros([8])\n",
        "    for i in range(0, 4):\n",
        "        y[i] = z[i]\n",
        "        y[i+4] = z_copy[i]\n",
        "    return y % p\n",
        "\n",
        "#def linear\n",
        "def linear(z):\n",
        "    matrix = np.array([[2, 5], [1, 7]])\n",
        "    z_matrix = np.array([[z[0], z[1], z[2], z[3]], [z[4], z[5], z[6], z[7]]])\n",
        "    w = np.matmul(matrix, z_matrix)\n",
        "    w = w.flatten()\n",
        "    return w % p\n",
        "#def inverse linear\n",
        "def inverse_linear(w):\n",
        "    matrix = np.array([[2, 8], [6, 10]])\n",
        "    w_matrix = np.array([[w[0], w[1], w[2], w[3]], [w[4], w[5], w[6], w[7]]])\n",
        "    z = np.matmul(matrix, w_matrix)\n",
        "    z = z.flatten()\n",
        "    return z % p\n",
        "\n",
        "#Task 1 - Implement a simple AES-like encryptor\n",
        "def encrypt(u, k):\n",
        "    subkeys = subkey_gen(k)\n",
        "    for i in range(0,6):\n",
        "        if i == 0:\n",
        "            w = subkey_sum(u, np.array(subkeys[i]))\n",
        "        else:\n",
        "            w = subkey_sum(w, np.array(subkeys[i]))\n",
        "        if i<5 and i != 4:\n",
        "            y = substitution(w)\n",
        "            z = transposition(y)\n",
        "            w = linear(z)\n",
        "        if i == 4:\n",
        "            y = substitution(w)\n",
        "            z = transposition(y)\n",
        "            w = z\n",
        "    return w % p\n",
        "\n",
        "#Task 2 - Implement a simple AES-like decryptor\n",
        "def decrypt(x, k):\n",
        "    subkeys = inverse_subkey_gen(k)\n",
        "    for i in range(0,6):\n",
        "        if i == 0:\n",
        "            w = inverse_subkey_sum(x, np.array(subkeys[i]))\n",
        "        elif i == 1:\n",
        "            z = w\n",
        "            y = inverse_transposition(z)\n",
        "            w = inverse_substitution(y)\n",
        "            z = inverse_subkey_sum(w, np.array(subkeys[i]))\n",
        "        elif i >= 2:\n",
        "            w = inverse_linear(z)\n",
        "            y = inverse_transposition(w)\n",
        "            w = inverse_substitution(y)\n",
        "            z = inverse_subkey_sum(w, np.array(subkeys[i]))\n",
        "    return z % p"
      ]
    },
    {
      "cell_type": "code",
      "source": [
        "print(\"Task 1 - Implement a simple AES-like encryptor\")\n",
        "print(\"x = \", x)\n",
        "print(\"k = \", k)\n",
        "print(\"u = \", u)\n",
        "print(\"p = \", p)\n",
        "print(\"Encryption: \", encrypt(u, k).astype('int'))\n",
        "print(\"\")\n",
        "print(\"Task 2 - Implement a simple AES-like decryptor\")\n",
        "print(\"x = \", x)\n",
        "print(\"k = \", k)\n",
        "print(\"u = \", u)\n",
        "print(\"p = \", p)\n",
        "print(\"Decryption: \", decrypt(x, k).astype('int'))\n",
        "print(\"\")\n",
        "print(\"Proof of correctness\")\n",
        "print(\"Decryption of encryption: \", decrypt(encrypt(u, k), k).astype('int'))\n",
        "print(\"Encryption of decryption: \", encrypt(decrypt(x, k), k).astype('int'))"
      ],
      "metadata": {
        "colab": {
          "base_uri": "https://localhost:8080/"
        },
        "id": "Efbu4kmPiT_b",
        "outputId": "0e3ddf2d-591d-41f2-88e4-ab51e5183d34"
      },
      "execution_count": null,
      "outputs": [
        {
          "output_type": "stream",
          "name": "stdout",
          "text": [
            "Task 1 - Implement a simple AES-like encryptor\n",
            "x =  [4 0 0 9 7 0 0 3]\n",
            "k =  [1 0 0 0 0 0 0 0]\n",
            "u =  [1 0 0 0 0 0 0 0]\n",
            "p =  11\n",
            "Encryption:  [4 0 0 9 7 0 0 3]\n",
            "\n",
            "Task 2 - Implement a simple AES-like decryptor\n",
            "x =  [4 0 0 9 7 0 0 3]\n",
            "k =  [1 0 0 0 0 0 0 0]\n",
            "u =  [1 0 0 0 0 0 0 0]\n",
            "p =  11\n",
            "Decryption:  [1 0 0 0 0 0 0 0]\n",
            "\n",
            "Proof of correctness\n",
            "Decryption of encryption:  [1 0 0 0 0 0 0 0]\n",
            "Encryption of decryption:  [4 0 0 9 7 0 0 3]\n"
          ]
        }
      ]
    },
    {
      "cell_type": "markdown",
      "metadata": {
        "id": "7csjP3PTnZY0"
      },
      "source": [
        "# Task 3"
      ]
    },
    {
      "cell_type": "code",
      "execution_count": null,
      "metadata": {
        "id": "Y7YyZkHunYiG"
      },
      "outputs": [],
      "source": [
        "#define orthonormal basis\n",
        "\n",
        "e_1 = np.array([1, 0, 0, 0, 0, 0, 0, 0])\n",
        "e_2 = np.array([0, 1, 0, 0, 0, 0, 0, 0])\n",
        "e_3 = np.array([0, 0, 1, 0, 0, 0, 0, 0])\n",
        "e_4 = np.array([0, 0, 0, 1, 0, 0, 0, 0])\n",
        "e_5 = np.array([0, 0, 0, 0, 1, 0, 0, 0])\n",
        "e_6 = np.array([0, 0, 0, 0, 0, 1, 0, 0])\n",
        "e_7 = np.array([0, 0, 0, 0, 0, 0, 1, 0])\n",
        "e_8 = np.array([0, 0, 0, 0, 0, 0, 0, 1])"
      ]
    },
    {
      "cell_type": "markdown",
      "source": [
        "\\begin{equation}\n",
        "\\text{Ecrypt}(u,k)=x=AK+Bu \\mod p\n",
        "\\end{equation}"
      ],
      "metadata": {
        "id": "5nPGR-FzyHjX"
      }
    },
    {
      "cell_type": "markdown",
      "source": [
        "Computing the matrix $A$"
      ],
      "metadata": {
        "id": "Ilyi90Aui3Ja"
      }
    },
    {
      "cell_type": "code",
      "execution_count": null,
      "metadata": {
        "colab": {
          "base_uri": "https://localhost:8080/"
        },
        "id": "83uxfkdZoJWd",
        "outputId": "42e6dd73-588a-4ae0-f875-ba1dd45fb295"
      },
      "outputs": [
        {
          "output_type": "stream",
          "name": "stdout",
          "text": [
            "[[ 9  0  1  6  0  0  1 10]\n",
            " [ 0  8  6  2  2  9  0  0]\n",
            " [ 0  6  0  8  3 10  0  0]\n",
            " [ 6  0  0  8  0  1  6  6]\n",
            " [ 2  0  1 10  0  0  1  3]\n",
            " [ 0  1  8  4  9  6  0  0]\n",
            " [ 0 10  0  5  7  6  0  0]\n",
            " [ 3  0  0  1  0  1  4  8]]\n"
          ]
        }
      ],
      "source": [
        "zeros = np.zeros([8])\n",
        "\n",
        "e = [e_1,e_2,e_3,e_4,e_5,e_6,e_7,e_8]\n",
        "\n",
        "a=[]\n",
        "\n",
        "for e_i in e:\n",
        "  a_i = encrypt(zeros, e_i)\n",
        "  a.append(a_i)\n",
        "\n",
        "A = np.column_stack(a)\n",
        "print(A.astype('int'))"
      ]
    },
    {
      "cell_type": "markdown",
      "source": [
        "Computing the matrix $B$"
      ],
      "metadata": {
        "id": "-l81CPjaizU3"
      }
    },
    {
      "cell_type": "code",
      "execution_count": null,
      "metadata": {
        "colab": {
          "base_uri": "https://localhost:8080/"
        },
        "id": "i_JNYnj_qPjR",
        "outputId": "419a2274-d2d5-4dd7-ee81-23965b361699"
      },
      "outputs": [
        {
          "output_type": "stream",
          "name": "stdout",
          "text": [
            "[[6 0 0 3 3 0 0 0]\n",
            " [0 6 3 0 0 3 0 0]\n",
            " [0 3 6 0 0 0 3 0]\n",
            " [3 0 0 6 0 0 0 3]\n",
            " [5 0 0 0 4 0 0 8]\n",
            " [0 5 0 0 0 4 8 0]\n",
            " [0 0 5 0 0 8 4 0]\n",
            " [0 0 0 5 8 0 0 4]]\n"
          ]
        }
      ],
      "source": [
        "b=[]\n",
        "\n",
        "for e_i in e:\n",
        "  b_i = encrypt(e_i,zeros)\n",
        "  b.append(b_i)\n",
        "\n",
        "B = np.column_stack(b)\n",
        "print(B.astype('int'))"
      ]
    },
    {
      "cell_type": "markdown",
      "source": [
        "We see if the linear approximmation returns the same encryption of the function Encryption"
      ],
      "metadata": {
        "id": "pBCr5BWUi_Mx"
      }
    },
    {
      "cell_type": "code",
      "execution_count": null,
      "metadata": {
        "colab": {
          "base_uri": "https://localhost:8080/"
        },
        "id": "tB1XuPGb0ERZ",
        "outputId": "20dba2dc-c0c2-4778-98a5-7c2c0b576c01"
      },
      "outputs": [
        {
          "output_type": "execute_result",
          "data": {
            "text/plain": [
              "array([4, 0, 0, 9, 7, 0, 0, 3])"
            ]
          },
          "metadata": {},
          "execution_count": 14
        }
      ],
      "source": [
        "((np.matmul(A, k) + np.matmul(B, u)) % p).astype('int')"
      ]
    },
    {
      "cell_type": "markdown",
      "metadata": {
        "id": "AoVaXfLSaRBO"
      },
      "source": [
        "# Task 4"
      ]
    },
    {
      "cell_type": "code",
      "execution_count": null,
      "metadata": {
        "id": "b3wsWtA3aUyE"
      },
      "outputs": [],
      "source": [
        "from numpy.linalg import inv\n",
        "\n",
        "u = np.array([1, 0, 0, 0, 0, 0, 0, 0])\n",
        "\n",
        "x = np.array([4, 0, 0, 9, 7, 0, 0, 3])"
      ]
    },
    {
      "cell_type": "markdown",
      "metadata": {
        "id": "WWvqtovo0ERa"
      },
      "source": [
        "#### Specific Example "
      ]
    },
    {
      "cell_type": "code",
      "execution_count": null,
      "metadata": {
        "colab": {
          "base_uri": "https://localhost:8080/"
        },
        "id": "Go8xkYES0ERb",
        "outputId": "c9d8ab4c-4761-4619-f907-4c023abd8bb8"
      },
      "outputs": [
        {
          "output_type": "execute_result",
          "data": {
            "text/plain": [
              "array([[ 2,  8],\n",
              "       [ 6, 10]])"
            ]
          },
          "metadata": {},
          "execution_count": 19
        }
      ],
      "source": [
        "# Specific Example\n",
        "\n",
        "matrix = ([[2, 5], [1, 7]])\n",
        "\n",
        "def modularInverse(M):\n",
        "    \n",
        "    M_star = inv(M) #inverse of M in R\n",
        "    #print(M_star)\n",
        "    det = round(np.linalg.det(M))#determinant of M in R\n",
        "    #print(det)\n",
        "    M_tilda = M_star * det #M_tilda in R\n",
        "    #print(M_tilda)\n",
        "    det_modular_inverse = pow(int(det), -1, p)\n",
        "    #print(det_modular_inverse)\n",
        "    M_modular_inverse = (M_tilda * det_modular_inverse % p).astype('int')\n",
        "    #print(M_modular_inverse)\n",
        "    return M_modular_inverse\n",
        "\n",
        "modularInverse(matrix)"
      ]
    },
    {
      "cell_type": "markdown",
      "metadata": {
        "id": "nrJs0was0ERc"
      },
      "source": [
        "#### General Case"
      ]
    },
    {
      "cell_type": "markdown",
      "source": [
        "Due to `np.linalg.det` function, we computed the inverse of the matrix $A$ with the online tool [https://planetcalc.com/3324/](https://planetcalc.com/3324/)"
      ],
      "metadata": {
        "id": "0bXCoYssjSGf"
      }
    },
    {
      "cell_type": "code",
      "execution_count": null,
      "metadata": {
        "id": "yUoA6pKQ0ERc"
      },
      "outputs": [],
      "source": [
        "A_star = ([[10,\t9,\t6,\t10,\t2,\t0,\t9,\t4], [8,\t0,\t9,\t4,\t4,\t4,\t2,\t2],\n",
        "           [3,\t10,\t9,\t7,\t7,\t1,\t3,\t9], [0,\t2,\t7,\t0,\t0,\t4,\t7,\t0],\n",
        "           [2,\t5,\t8,\t1,\t1,\t0,\t0,\t6], [10,\t9,\t1,\t5,\t5,\t1,\t2,\t8],\n",
        "           [5,\t7,\t3,\t3,\t9,\t4,\t1,\t6], [9,\t0,\t9,\t1,\t1,\t7,\t6,\t7]])"
      ]
    },
    {
      "cell_type": "code",
      "source": [
        "u_1 = np.array([5,7,7,6,0,7,8,8])\n",
        "x_1 = np.array([7,7,8,1,2,6,5,9])\n",
        "\n",
        "u_2 = np.array([1,3,3,1,0,6,2,7])\n",
        "x_2 = np.array([1,1,9,0,7,0,8,2])\n",
        "\n",
        "u_3 = np.array([5,10,0,3,5,1,1,1]) \n",
        "x_3 = np.array([2,8,9,6,10,7,4,6])\n",
        "\n",
        "u_4 = np.array([6,3,9,1,5,7,9,4])\n",
        "x_4 = np.array([2,0,0,6,6,5,8,8])\n",
        "\n",
        "u_5 = np.array([0,8,9,4,8,10,5,9])\n",
        "x_5 = np.array([6,6,3,10,6,10,5,1])\n",
        "\n",
        "u = np.array([u_1, u_2, u_3, u_4, u_5])\n",
        "x = np.array([x_1, x_2, x_3, x_4, x_5])\n",
        "\n",
        "for i in range(0,5):\n",
        "    k = np.matmul(A_star, (x[i]-np.matmul(B,u[i]))) % p\n",
        "\n",
        "#encrypt and decrypt\n",
        "#Proof of correctness\n",
        "print(\"Encryption and Decryption\")\n",
        "print(\"\")\n",
        "for i in range(0,5):\n",
        "    print(\"k = \", k.astype('int'))\n",
        "    print(\"u = \", u[i])\n",
        "    print(\"x = \", x[i])\n",
        "    print(\"Encryption(u,k): \", encrypt(u[i], k).astype('int'))\n",
        "    print(\"Decryption(x,k): \", decrypt(x[i], k).astype('int'))\n",
        "    print(\"\")"
      ],
      "metadata": {
        "colab": {
          "base_uri": "https://localhost:8080/"
        },
        "id": "i_LnKnQ-hKwX",
        "outputId": "a7746333-fd30-4587-d610-36170a1bf33b"
      },
      "execution_count": null,
      "outputs": [
        {
          "output_type": "stream",
          "name": "stdout",
          "text": [
            "Encryption and Decryption\n",
            "\n",
            "k =  [ 8 10  2  7  6  4  9  1]\n",
            "u =  [5 7 7 6 0 7 8 8]\n",
            "x =  [7 7 8 1 2 6 5 9]\n",
            "Encryption(u,k):  [7 7 8 1 2 6 5 9]\n",
            "Decryption(x,k):  [5 7 7 6 0 7 8 8]\n",
            "\n",
            "k =  [ 8 10  2  7  6  4  9  1]\n",
            "u =  [1 3 3 1 0 6 2 7]\n",
            "x =  [1 1 9 0 7 0 8 2]\n",
            "Encryption(u,k):  [1 1 9 0 7 0 8 2]\n",
            "Decryption(x,k):  [1 3 3 1 0 6 2 7]\n",
            "\n",
            "k =  [ 8 10  2  7  6  4  9  1]\n",
            "u =  [ 5 10  0  3  5  1  1  1]\n",
            "x =  [ 2  8  9  6 10  7  4  6]\n",
            "Encryption(u,k):  [ 2  8  9  6 10  7  4  6]\n",
            "Decryption(x,k):  [ 5 10  0  3  5  1  1  1]\n",
            "\n",
            "k =  [ 8 10  2  7  6  4  9  1]\n",
            "u =  [6 3 9 1 5 7 9 4]\n",
            "x =  [2 0 0 6 6 5 8 8]\n",
            "Encryption(u,k):  [2 0 0 6 6 5 8 8]\n",
            "Decryption(x,k):  [6 3 9 1 5 7 9 4]\n",
            "\n",
            "k =  [ 8 10  2  7  6  4  9  1]\n",
            "u =  [ 0  8  9  4  8 10  5  9]\n",
            "x =  [ 6  6  3 10  6 10  5  1]\n",
            "Encryption(u,k):  [ 6  6  3 10  6 10  5  1]\n",
            "Decryption(x,k):  [ 0  8  9  4  8 10  5  9]\n",
            "\n"
          ]
        }
      ]
    },
    {
      "cell_type": "markdown",
      "metadata": {
        "id": "2xOJeVCC0ERd"
      },
      "source": [
        "# Task 5"
      ]
    },
    {
      "cell_type": "code",
      "execution_count": null,
      "metadata": {
        "id": "9wi5mj4J0ERd"
      },
      "outputs": [],
      "source": [
        "#setting up the variables\n",
        "u = np.array([1, 0, 0, 0, 0, 0, 0, 0])\n",
        "k = np.array([1, 0, 0, 0, 0, 0, 0, 0])\n",
        "x = np.array([9, 0, 0, 0, 5, 0, 0, 6])\n",
        "p = 11\n",
        "\n",
        "#generation keys\n",
        "def subkey_gen(k):\n",
        "    k1 = np.array([k[0], k[2], k[4], k[6]])\n",
        "    k2 = np.array([k[0], k[1], k[2], k[3]])\n",
        "    k3 = np.array([k[0], k[3], k[4], k[7]])\n",
        "    k4 = np.array([k[0], k[3], k[5], k[6]])\n",
        "    k5 = np.array([k[0], k[2], k[5], k[7]])\n",
        "    k6 = np.array([k[2], k[3], k[4], k[5]])\n",
        "    set_of_subkeys = np.array([k1, k2, k3, k4, k5, k6])\n",
        "    return set_of_subkeys\n",
        "def inverse_subkey_gen(k):\n",
        "    set_of_subkeys = subkey_gen(k)\n",
        "    set_of_subkeys = set_of_subkeys[::-1]\n",
        "    return set_of_subkeys\n",
        "\n",
        "#def subkey sum:\n",
        "def subkey_sum(w, k):\n",
        "    v = np.zeros([8])\n",
        "    key = np.concatenate((k,k), axis = None)\n",
        "    for i in range(0, 8):\n",
        "        v[i] = w[i] + key[i]\n",
        "    return v % p\n",
        "#def inverse subkey sum:\n",
        "def inverse_subkey_sum(v, k):\n",
        "    w = np.zeros([8])\n",
        "    key = np.concatenate((k,k), axis = None)\n",
        "    for i in range(0, 8):\n",
        "        w[i] = v[i] - key[i]\n",
        "    return w % p\n",
        "\n",
        "#def substitution:\n",
        "def substitution(v):\n",
        "    y = np.zeros([8])\n",
        "    map = {0:0, 1:2, 2:4, 3:8, 4:6, 5:10, 6:1, 7:3, 8:5, 9:7, 10:9}\n",
        "    for i in range(0, 8):\n",
        "        y[i] = map[v[i]]\n",
        "    return y % p\n",
        "#def inverse substitution:\n",
        "def inverse_substitution(y):\n",
        "    v = np.zeros([8])\n",
        "    map = {0:0, 1:6, 2:1, 3:7, 4:2, 5:8, 6:4, 7:9, 8:3, 9:10, 10:5}\n",
        "    for i in range(0, 8):\n",
        "        v[i] = map[y[i]]\n",
        "    return v % p\n",
        "\n",
        "#def transposition:\n",
        "def transposition(y):\n",
        "    y_copy = y\n",
        "    y_copy = y_copy[4:]\n",
        "    y_copy = y_copy[::-1]\n",
        "    z = np.zeros([8])\n",
        "    for i in range(0, 4):\n",
        "        z[i] = y[i]\n",
        "        z[i+4] = y_copy[i]\n",
        "    return z % p\n",
        "#def inverse transposition:\n",
        "def inverse_transposition(z):\n",
        "    z_copy = z\n",
        "    z_copy = z_copy[4:]\n",
        "    z_copy = z_copy[::-1]\n",
        "    y = np.zeros([8])\n",
        "    for i in range(0, 4):\n",
        "        y[i] = z[i]\n",
        "        y[i+4] = z_copy[i]\n",
        "    return y % p\n",
        "\n",
        "#def linear\n",
        "def linear(z):\n",
        "    matrix = np.array([[2, 5], [1, 7]])\n",
        "    z_matrix = np.array([[z[0], z[1], z[2], z[3]], [z[4], z[5], z[6], z[7]]])\n",
        "    w = np.matmul(matrix, z_matrix)\n",
        "    w = w.flatten()\n",
        "    return w % p\n",
        "#def inverse linear\n",
        "def inverse_linear(w):\n",
        "    matrix = np.array([[2, 8], [6, 10]])\n",
        "    w_matrix = np.array([[w[0], w[1], w[2], w[3]], [w[4], w[5], w[6], w[7]]])\n",
        "    z = np.matmul(matrix, w_matrix)\n",
        "    z = z.flatten()\n",
        "    return z % p\n",
        "\n",
        "#Task 5 - Implement a simple AES-like encryptor\n",
        "def encrypt(u, k):\n",
        "    subkeys = subkey_gen(k)\n",
        "    for i in range(0,6):\n",
        "        if i == 0:\n",
        "            w = subkey_sum(u, np.array(subkeys[i]))\n",
        "        else:\n",
        "            w = subkey_sum(w, np.array(subkeys[i]))\n",
        "        if i<5 and i != 4:\n",
        "            y = substitution(w)\n",
        "            z = transposition(y)\n",
        "            w = linear(z)\n",
        "        if i == 4:\n",
        "            y = substitution(w)\n",
        "            z = transposition(y)\n",
        "            w = z\n",
        "    return w % p\n",
        "\n",
        "#Task 5 - Implement a simple AES-like decryptor\n",
        "def decrypt(x, k):\n",
        "    subkeys = inverse_subkey_gen(k)\n",
        "    for i in range(0,6):\n",
        "        if i == 0:\n",
        "            w = inverse_subkey_sum(x, np.array(subkeys[i]))\n",
        "        elif i == 1:\n",
        "            z = w\n",
        "            y = inverse_transposition(z)\n",
        "            w = inverse_substitution(y)\n",
        "            z = inverse_subkey_sum(w, np.array(subkeys[i]))\n",
        "        elif i >= 2:\n",
        "            w = inverse_linear(z)\n",
        "            y = inverse_transposition(w)\n",
        "            w = inverse_substitution(y)\n",
        "            z = inverse_subkey_sum(w, np.array(subkeys[i]))\n",
        "    return z % p"
      ]
    },
    {
      "cell_type": "code",
      "source": [
        "print(\"Task 5 - Implement a simple AES-like encryptor\")\n",
        "print(\"x = \", x)\n",
        "print(\"k = \", k)\n",
        "print(\"u = \", u)\n",
        "print(\"p = \", p)\n",
        "print(\"Encryption: \", encrypt(u, k).astype('int'))\n",
        "print(\"\")\n",
        "print(\"Task 5 - Implement a simple AES-like decryptor\")\n",
        "print(\"x = \", x)\n",
        "print(\"k = \", k)\n",
        "print(\"u = \", u)\n",
        "print(\"p = \", p)\n",
        "print(\"Decryption: \", decrypt(x, k).astype('int'))\n",
        "print(\"\")\n",
        "print(\"Proof of correctness\")\n",
        "print(\"Decryption of encryption: \", decrypt(encrypt(u, k), k).astype('int'))\n",
        "print(\"Encryption of decryption: \", encrypt(decrypt(x, k), k).astype('int'))"
      ],
      "metadata": {
        "colab": {
          "base_uri": "https://localhost:8080/"
        },
        "id": "9PUp12HUkjwm",
        "outputId": "1d0026dd-8d22-4f92-9c37-1dde0a809603"
      },
      "execution_count": null,
      "outputs": [
        {
          "output_type": "stream",
          "name": "stdout",
          "text": [
            "Task 5 - Implement a simple AES-like encryptor\n",
            "x =  [9 0 0 0 5 0 0 6]\n",
            "k =  [1 0 0 0 0 0 0 0]\n",
            "u =  [1 0 0 0 0 0 0 0]\n",
            "p =  11\n",
            "Encryption:  [9 0 0 0 5 0 0 6]\n",
            "\n",
            "Task 5 - Implement a simple AES-like decryptor\n",
            "x =  [9 0 0 0 5 0 0 6]\n",
            "k =  [1 0 0 0 0 0 0 0]\n",
            "u =  [1 0 0 0 0 0 0 0]\n",
            "p =  11\n",
            "Decryption:  [1 0 0 0 0 0 0 0]\n",
            "\n",
            "Proof of correctness\n",
            "Decryption of encryption:  [1 0 0 0 0 0 0 0]\n",
            "Encryption of decryption:  [9 0 0 0 5 0 0 6]\n"
          ]
        }
      ]
    },
    {
      "cell_type": "markdown",
      "metadata": {
        "id": "aRcpsG6_0ERf"
      },
      "source": [
        "# Task 7"
      ]
    },
    {
      "cell_type": "code",
      "execution_count": null,
      "metadata": {
        "id": "ij2F-Pxj0ERf"
      },
      "outputs": [],
      "source": [
        "#setting up the variables\n",
        "u = np.array([1, 0, 0, 0, 0, 0, 0, 0])\n",
        "k = np.array([1, 0, 0, 0])\n",
        "x = np.array([5, 0, 3, 2, 5, 2, 1, 1])\n",
        "p = 11\n",
        "\n",
        "#generation keys\n",
        "def subkey_gen(k):\n",
        "    k1 = np.array([k[0], k[1], k[2], k[3]])\n",
        "    k2 = np.array([k[0], k[1], k[3], k[2]])\n",
        "    k3 = np.array([k[1], k[2], k[3], k[0]])\n",
        "    k4 = np.array([k[0], k[3], k[1], k[2]])\n",
        "    k5 = np.array([k[2], k[3], k[0], k[1]])\n",
        "    k6 = np.array([k[1], k[3], k[0], k[2]])\n",
        "    set_of_subkeys = np.array([k1, k2, k3, k4, k5, k6])\n",
        "    return set_of_subkeys\n",
        "def inverse_subkey_gen(k):\n",
        "    set_of_subkeys = subkey_gen(k)\n",
        "    set_of_subkeys = set_of_subkeys[::-1]\n",
        "    return set_of_subkeys\n",
        "\n",
        "#def subkey sum:\n",
        "def subkey_sum(w, k):\n",
        "    v = np.zeros([8])\n",
        "    key = np.concatenate((k,k), axis = None)\n",
        "    for i in range(0, 8):\n",
        "        v[i] = w[i] + key[i]\n",
        "    return v % p\n",
        "#def inverse subkey sum:\n",
        "def inverse_subkey_sum(v, k):\n",
        "    w = np.zeros([8])\n",
        "    key = np.concatenate((k,k), axis = None)\n",
        "    for i in range(0, 8):\n",
        "        w[i] = v[i] - key[i]\n",
        "    return w % p\n",
        "\n",
        "#def find_inverse of a vector:\n",
        "def find_inverse(v):\n",
        "    for i in range(len(v)):\n",
        "        for j in range(1, p):\n",
        "            if (v[i] * j) % p == 1:\n",
        "                v[i] = j\n",
        "                break\n",
        "    return v\n",
        "#def substitution\n",
        "def substitution(v):\n",
        "    y = np.zeros([8])\n",
        "    v = find_inverse(v)\n",
        "    for i in range(0, 8):\n",
        "        y[i] = 2*v[i]\n",
        "    return y % p\n",
        "#def inverse substitution\n",
        "def inverse_substitution(y):\n",
        "    v = np.zeros([8])\n",
        "    for i in range(0, 8):\n",
        "        for j in range(0, p):\n",
        "            if (j + j) % p == y[i]:\n",
        "                v[i] = j\n",
        "                break\n",
        "    v = find_inverse(v)\n",
        "    return v % p\n",
        "\n",
        "#def transposition\n",
        "def transposition(y):\n",
        "    y_copy = y\n",
        "    y_copy = y_copy[4:]\n",
        "    y_copy = y_copy[::-1]\n",
        "    y = np.concatenate((y[:4], y_copy), axis = None)\n",
        "    return y\n",
        "#def inverse transposition\n",
        "def inverse_transposition(z):\n",
        "    z_copy = z\n",
        "    z_copy = z_copy[4:]\n",
        "    z_copy = z_copy[::-1]\n",
        "    z = np.concatenate((z[:4], z_copy), axis = None)\n",
        "    return z\n",
        "\n",
        "#def linear\n",
        "def linear(z):\n",
        "    matrix = np.array([[2, 5], [1, 7]])\n",
        "    z_matrix = np.array([[z[0], z[1], z[2], z[3]], [z[4], z[5], z[6], z[7]]])\n",
        "    w = np.matmul(matrix, z_matrix)\n",
        "    w = w.flatten()\n",
        "    return w % p\n",
        "#def inverse linear\n",
        "def inverse_linear(w):\n",
        "    matrix = np.array([[2, 8], [6, 10]])\n",
        "    w_matrix = np.array([[w[0], w[1], w[2], w[3]], [w[4], w[5], w[6], w[7]]])\n",
        "    z = np.matmul(matrix, w_matrix)\n",
        "    z = z.flatten()\n",
        "    return z % p\n",
        "\n",
        "#Task 7 - Implement a simple AES-like encryptor\n",
        "def encrypt(u, k):\n",
        "    subkeys = subkey_gen(k)\n",
        "    for i in range(0,6):\n",
        "        if i == 0:\n",
        "            w = subkey_sum(u, np.array(subkeys[i]))\n",
        "        else:\n",
        "            w = subkey_sum(w, np.array(subkeys[i]))\n",
        "        if i<5 and i != 4:\n",
        "            y = substitution(w)\n",
        "            z = transposition(y)\n",
        "            w = linear(z)\n",
        "        if i == 4:\n",
        "            y = substitution(w)\n",
        "            z = transposition(y)\n",
        "            w = z\n",
        "    return w % p\n",
        "\n",
        "#Task 7 - Implement a simple AES-like decryptor\n",
        "def decrypt(x, k):\n",
        "    subkeys = inverse_subkey_gen(k)\n",
        "    for i in range(0,6):\n",
        "        if i == 0:\n",
        "            w = inverse_subkey_sum(x, np.array(subkeys[i]))\n",
        "        elif i == 1:\n",
        "            z = w\n",
        "            y = inverse_transposition(z)\n",
        "            w = inverse_substitution(y)\n",
        "            z = inverse_subkey_sum(w, np.array(subkeys[i]))\n",
        "        elif i >= 2:\n",
        "            w = inverse_linear(z)\n",
        "            y = inverse_transposition(w)\n",
        "            w = inverse_substitution(y)\n",
        "            z = inverse_subkey_sum(w, np.array(subkeys[i]))\n",
        "    return z % p"
      ]
    },
    {
      "cell_type": "code",
      "source": [
        "print(\"Task 7 - Implement a simple AES-like encryptor\")\n",
        "print(\"x = \", x)\n",
        "print(\"k = \", k)\n",
        "print(\"u = \", u)\n",
        "print(\"p = \", p)\n",
        "print(\"Encryption: \", encrypt(u, k).astype('int'))\n",
        "print(\"\")\n",
        "print(\"Task 7 - Implement a simple AES-like decryptor\")\n",
        "print(\"x = \", x)\n",
        "print(\"k = \", k)\n",
        "print(\"u = \", u)\n",
        "print(\"p = \", p)\n",
        "print(\"Decryption: \", decrypt(x, k).astype('int'))\n",
        "print(\"\")\n",
        "print(\"Proof of correctness:\")\n",
        "print(\"Decryption of encryption: \", decrypt(encrypt(u, k), k).astype('int'))\n",
        "print(\"Encryption of decryption: \", encrypt(decrypt(x, k), k).astype('int'))"
      ],
      "metadata": {
        "colab": {
          "base_uri": "https://localhost:8080/"
        },
        "id": "NYsk-t6dlbKE",
        "outputId": "20b65176-5866-49da-fde6-399e0709506e"
      },
      "execution_count": null,
      "outputs": [
        {
          "output_type": "stream",
          "name": "stdout",
          "text": [
            "Task 7 - Implement a simple AES-like encryptor\n",
            "x =  [5 0 3 2 5 2 1 1]\n",
            "k =  [1 0 0 0]\n",
            "u =  [1 0 0 0 0 0 0 0]\n",
            "p =  11\n",
            "Encryption:  [5 0 3 2 5 2 1 1]\n",
            "\n",
            "Task 7 - Implement a simple AES-like decryptor\n",
            "x =  [5 0 3 2 5 2 1 1]\n",
            "k =  [1 0 0 0]\n",
            "u =  [1 0 0 0 0 0 0 0]\n",
            "p =  11\n",
            "Decryption:  [1 0 0 0 0 0 0 0]\n",
            "\n",
            "Proof of correctness:\n",
            "Decryption of encryption:  [1 0 0 0 0 0 0 0]\n",
            "Encryption of decryption:  [5 0 3 2 5 2 1 1]\n"
          ]
        }
      ]
    },
    {
      "cell_type": "markdown",
      "metadata": {
        "id": "Qcaytg1G0ERk"
      },
      "source": [
        "# Task 8"
      ]
    },
    {
      "cell_type": "markdown",
      "source": [
        "Let's define our plaintexts and ciphertexts"
      ],
      "metadata": {
        "id": "1ISzMMtmp-mu"
      }
    },
    {
      "cell_type": "code",
      "execution_count": null,
      "metadata": {
        "id": "-F5OuAT-0ERn"
      },
      "outputs": [],
      "source": [
        "u1 = [7, 5, 3, 3, 1, 5, 4, 8]\n",
        "x1 = [3, 4, 9, 5, 3, 4, 7, 10]\n",
        "\n",
        "u2 = [2, 6, 0, 7, 8, 2, 8, 1]\n",
        "x2 = [1, 1, 5, 4, 3, 9, 7, 7]\n",
        "\n",
        "u3 = [7, 4, 2, 6, 6, 8, 7, 8]\n",
        "x3 = [3, 3, 5, 3, 8, 6, 9, 3]\n",
        "\n",
        "u4 = [3, 7, 5, 3, 1, 10, 3, 1]\n",
        "x4 = [4, 7, 5, 9, 4, 3, 10, 10]\n",
        "\n",
        "u5 = [2, 5, 8, 7, 9, 5, 3, 8]\n",
        "x5 = [8, 9, 6, 6, 3, 9, 7, 7]"
      ]
    },
    {
      "cell_type": "markdown",
      "source": [
        "Implementing the \"Meet in the middle\" attack against the concatenation of two\n",
        "instances of the non linear simplified AES-like cipher"
      ],
      "metadata": {
        "id": "8HmYwmSFqFsk"
      }
    },
    {
      "cell_type": "code",
      "source": [
        "def key_gen():\n",
        "    key = np.random.randint(0, p, 4)\n",
        "    return key"
      ],
      "metadata": {
        "id": "eGJp4wMDso15"
      },
      "execution_count": null,
      "outputs": []
    },
    {
      "cell_type": "code",
      "source": [
        "dictionary_1 = {}\n",
        "dictionary_2 = {}\n",
        "\n",
        "thousand_keys_1 = []\n",
        "for i in range(0, 80000):\n",
        "  thousand_keys_1.append(key_gen())\n",
        "\n",
        "thousand_keys_1 = np.array(thousand_keys_1)\n",
        "thousand_keys_1 = np.unique(thousand_keys_1, axis=0).tolist()\n",
        "print(len(thousand_keys_1))\n",
        "\n",
        "thousand_keys_2 = []\n",
        "for i in range(0, 80000):\n",
        "  thousand_keys_2.append(key_gen())\n",
        "\n",
        "thousand_keys_2 = np.array(thousand_keys_2)\n",
        "thousand_keys_2 = np.unique(thousand_keys_2, axis=0).tolist()\n",
        "print(len(thousand_keys_2))\n",
        "\n",
        "print(\"Task 8\")\n",
        "print(\"u1 = \", u1)\n",
        "print(\"x1 = \", x1)\n",
        "print(\"p = \", p)\n",
        "\n",
        "# compute all the encryption of u1 with the keys in thousand_keys_1\n",
        "for i in range(0, len(thousand_keys_1)):\n",
        "  # associate to the dictionary the key and the ciphertext\n",
        "  dictionary_1[i] = encrypt(u1, thousand_keys_1[i])\n",
        "  \n",
        "# compute all the decryption of x1 with the keys in thousand_keys_2\n",
        "for i in range(0, len(thousand_keys_2)):\n",
        "  dictionary_2[i] = decrypt(x1, thousand_keys_2[i])\n",
        "\n",
        "dict(sorted(dictionary_1.items(), key=lambda item: item[1].all()))\n",
        "dict(sorted(dictionary_2.items(), key=lambda item: item[1].all()))\n",
        "\n",
        "print(\"Dictionaries created and sorted\")\n",
        "print(\"----------------------------------\")\n",
        "print(\"Testing for matches...\")\n",
        "\n",
        "for i in range(0, len(thousand_keys_1)):\n",
        "  for j in range(0, len(thousand_keys_2)):\n",
        "    if np.array_equal(dictionary_1[i], dictionary_2[j]):\n",
        "      print(\"Found a match!\")\n",
        "      print(\"Key 1 = \", thousand_keys_1[i])\n",
        "      print(\"Key 2 = \", thousand_keys_2[j])\n",
        "      print(\"Ciphertext = \", dictionary_1[i])\n",
        "      print(\"Plaintext = \", dictionary_2[j])\n",
        "      break"
      ],
      "metadata": {
        "colab": {
          "base_uri": "https://localhost:8080/"
        },
        "id": "aSZksir2ni0i",
        "outputId": "58a6c6e5-faf8-4d80-b9bd-86dea865bdf7"
      },
      "execution_count": null,
      "outputs": [
        {
          "output_type": "stream",
          "name": "stdout",
          "text": [
            "14578\n",
            "14565\n",
            "Task 8\n",
            "u1 =  [7, 5, 3, 3, 1, 5, 4, 8]\n",
            "x1 =  [3, 4, 9, 5, 3, 4, 7, 10]\n",
            "p =  11\n",
            "Dictionaries created and sorted\n",
            "----------------------------------\n",
            "Testing for matches...\n",
            "Found a match!\n",
            "Key 1 =  [10, 7, 2, 2]\n",
            "Key 2 =  [5, 4, 6, 0]\n",
            "Ciphertext =  [ 2. 10.  9.  2.  0.  2.  1.  5.]\n",
            "Plaintext =  [ 2. 10.  9.  2.  0.  2.  1.  5.]\n"
          ]
        }
      ]
    },
    {
      "cell_type": "markdown",
      "source": [
        "The idea was to create pairs of keys, encipher the plaintext with the first one and decipher the ciphertext with the second one, and look for the couple of keys for which the enciphered / deciphered messages coincided. That is our target pair of keys."
      ],
      "metadata": {
        "id": "Cm0mv_gMtNoD"
      }
    }
  ],
  "metadata": {
    "colab": {
      "provenance": [],
      "toc_visible": true
    },
    "kernelspec": {
      "display_name": "Python 3",
      "name": "python3"
    },
    "language_info": {
      "codemirror_mode": {
        "name": "ipython",
        "version": 3
      },
      "file_extension": ".py",
      "mimetype": "text/x-python",
      "name": "python",
      "nbconvert_exporter": "python",
      "pygments_lexer": "ipython3",
      "version": "3.10.6"
    }
  },
  "nbformat": 4,
  "nbformat_minor": 0
}